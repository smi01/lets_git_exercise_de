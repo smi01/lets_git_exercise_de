{
  "nbformat": 4,
  "nbformat_minor": 0,
  "metadata": {
    "colab": {
      "name": "5.4 - Knowledge Graph Programming Example.ipynb",
      "provenance": [],
      "collapsed_sections": [],
      "include_colab_link": true
    },
    "kernelspec": {
      "name": "python3",
      "display_name": "Python 3"
    }
  },
  "cells": [
    {
      "cell_type": "markdown",
      "metadata": {
        "id": "view-in-github",
        "colab_type": "text"
      },
      "source": [
        "<a href=\"https://colab.research.google.com/github/smi01/lets_git_exercise_de/blob/master/5_4_Knowledge_Graph_Programming_Example.ipynb\" target=\"_parent\"><img src=\"https://colab.research.google.com/assets/colab-badge.svg\" alt=\"Open In Colab\"/></a>"
      ]
    },
    {
      "cell_type": "markdown",
      "metadata": {
        "id": "-_MNFKNYyrDH"
      },
      "source": [
        "# **Scientific Birthdays Example**\n",
        "\n",
        "This is the python notebook example for lecture 5.4 Knowledge Graph Programming, of the OpenHPI lecture \"Knowledge Graphs 2020\".\n",
        "\n",
        "*Please make a copy of this notebook to try out your own adaptions via \"File -> Save Copy in Drive\"*"
      ]
    },
    {
      "cell_type": "markdown",
      "metadata": {
        "id": "SHxdpQlK7pcg"
      },
      "source": [
        "First, we have to install the **sparqlwrapper library** before we can use it with the notebook."
      ]
    },
    {
      "cell_type": "code",
      "metadata": {
        "id": "SDrJejgTvAE9"
      },
      "source": [
        "!pip install -q sparqlwrapper    #install SPARQLwrapper"
      ],
      "execution_count": null,
      "outputs": []
    },
    {
      "cell_type": "markdown",
      "metadata": {
        "id": "ZRzOrb06zKfH"
      },
      "source": [
        "We are going to use a few libraries:\n",
        "\n",
        "\n",
        "\n",
        "*   **datetime** for date formatting and interpretation\n",
        "*   **SPARQLWrapper** to execute SPARQL queries and to import the results into python\n",
        "\n",
        "Thus, we will import them now.\n",
        "\n"
      ]
    },
    {
      "cell_type": "code",
      "metadata": {
        "id": "SJXrilamub6T"
      },
      "source": [
        "from datetime import datetime\n",
        "from SPARQLWrapper import SPARQLWrapper, JSON, XML, N3, RDF"
      ],
      "execution_count": null,
      "outputs": []
    },
    {
      "cell_type": "markdown",
      "metadata": {
        "id": "8zIgKA2pznsI"
      },
      "source": [
        "We will use DBpedia (http://dbpedia.org/sparql) as our SPARQL endpoint"
      ]
    },
    {
      "cell_type": "code",
      "metadata": {
        "id": "ASV8cGgcvuR-"
      },
      "source": [
        "sparql = SPARQLWrapper(\"http://dbpedia.org/sparql\") #determine SPARQL endpoint"
      ],
      "execution_count": null,
      "outputs": []
    },
    {
      "cell_type": "markdown",
      "metadata": {
        "id": "0fmehvshztYt"
      },
      "source": [
        "Next comes the query example from the lecture and its execution"
      ]
    },
    {
      "cell_type": "code",
      "metadata": {
        "id": "uRSTc_aqv7vG"
      },
      "source": [
        "#SPARQL query to be executed\n",
        "sparql.setQuery(\"\"\"\n",
        "PREFIX rdf: <http://www.w3.org/1999/02/22-rdf-syntax-ns#>\n",
        "PREFIX dbo: <http://dbpedia.org/ontology/>\n",
        "PREFIX rdfs: <http://www.w3.org/2000/01/rdf-schema#>\n",
        "PREFIX dc:  <http://purl.org/dc/elements/1.1/>\n",
        "\n",
        "Select distinct ?birthdate ?thumbnail ?scientist ?name ?description  WHERE {\n",
        "?scientist rdf:type dbo:Scientist ;\n",
        "        dbo:birthDate ?birthdate ;\n",
        "        rdfs:label ?name ;\n",
        "        rdfs:comment ?description \n",
        " FILTER ((lang(?name)=\"en\")&&(lang(?description)=\"en\")&&(STRLEN(STR(?birthdate))>6)&&(SUBSTR(STR(?birthdate),6)=SUBSTR(STR(bif:curdate('')),6))) .\n",
        " OPTIONAL { ?scientist dbo:thumbnail ?thumbnail . }\n",
        "} ORDER BY ?birthdate\n",
        "\"\"\")\n",
        "\n",
        "sparql.setReturnFormat(JSON)   # Return format is JSON\n",
        "results = sparql.query().convert()   # execute SPARQL query and write result to \"results\""
      ],
      "execution_count": null,
      "outputs": []
    },
    {
      "cell_type": "markdown",
      "metadata": {
        "id": "CrscD2mAz5Md"
      },
      "source": [
        "The results are now formatted in HTML encoding to be displayed nicely in a browser"
      ]
    },
    {
      "cell_type": "code",
      "metadata": {
        "id": "_xp1YyQ2wU50",
        "colab": {
          "base_uri": "https://localhost:8080/",
          "height": 649
        },
        "outputId": "59ed6d14-9314-4dcf-f303-661e522debf2"
      },
      "source": [
        "# Create HTML output\n",
        "print('<html><head><title>Scientific Birthdays of Today</title></head>')\n",
        "\n",
        "#extract Weekday %A / Month %B / Day of the Month %d by formatting today's date accordingly\n",
        "date = datetime.today().strftime(\"%A  %B %d\")\n",
        "print('<body><h1>Scientific Birthdays of {}</h1>'.format(date))\n",
        "\n",
        "print('<ul>')\n",
        "\n",
        "for result in results[\"results\"][\"bindings\"]:\n",
        "\tif (\"scientist\" in result):\n",
        "\t    #Create a Wikipedia Link\n",
        "  \t\twikiurl = \"http://en.wikipedia.org/wiki/\" + result[\"scientist\"][\"value\"].split('/')[-1]\n",
        "\telse:\n",
        "\t\twikiurl = 'NONE'  \n",
        "\tif (\"name\" in result):\n",
        "  \t\tname = result[\"name\"][\"value\"]\n",
        "\telse:\n",
        "\t\tname = 'NONE'  \t\t\n",
        "\tif (\"birthdate\" in result):\n",
        "\t\tbirthdate = result[\"birthdate\"][\"value\"]\n",
        "\telse:\n",
        "\t\tbirthdate = 'NONE'        \n",
        "\tif (\"description\" in result):\n",
        "\t\tdescription = result[\"description\"][\"value\"]\n",
        "\telse:\n",
        "\t\tdescription = ' '  \n",
        "\tif (\"thumbnail\" in result):\n",
        "\t\tpic = result[\"thumbnail\"][\"value\"]\n",
        "\telse:\n",
        "\t\tpic = 'https://upload.wikimedia.org/wikipedia/commons/thumb/b/b0/Question_mark2.svg/71px-Question_mark2.svg.png'        \t\n",
        "\n",
        "\n",
        "\t#parse date as datetime\n",
        "\tdt = datetime.strptime(birthdate, '%Y-%m-%d')\n",
        "  \n",
        "#\tprint '<li><b>{}</b> --  <a href=\"{}\">{}</a>, {} </li>'.format(dt.year, url, name, description)\n",
        "\tprint('<li><b>{}</b> -- <img src=\"{}\" height=\"60px\"> <a href=\"{}\">{}</a>, {} </li>'.format(dt.year, pic.replace(\"300\", \"60\"), wikiurl, name, description))\n",
        "\n",
        "print('</ul>')\n",
        "print('</body></html>')"
      ],
      "execution_count": null,
      "outputs": [
        {
          "output_type": "stream",
          "text": [
            "<html><head><title>Scientific Birthdays of Today</title></head>\n",
            "<body><h1>Scientific Birthdays of Wednesday  March 18</h1>\n",
            "<ul>\n",
            "<li><b>1640</b> -- <img src=\"http://commons.wikimedia.org/wiki/Special:FilePath/Philippe_de_La_Hire_(1640-1719).jpg?width=60\" height=\"60px\"> <a href=\"http://en.wikipedia.org/wiki/Philippe_de_La_Hire\">Philippe de La Hire</a>, Philippe de La Hire (or Lahire, La Hyre or Phillipe de La Hire) (March 18, 1640 – April 21, 1718) was a French painter, mathematician, astronomer, and architect. According to Bernard le Bovier de Fontenelle he was an \"academy unto himself\". Two of his sons were also notable for their scientific achievements: Gabriel-Philippe de La Hire (1677–1719), mathematician, and Jean-Nicolas de La Hire (1685–1727), botanist. Mons La Hire, a mountain on the Moon, is named for him. </li>\n",
            "<li><b>1650</b> -- <img src=\"https://upload.wikimedia.org/wikipedia/commons/thumb/b/b0/Question_mark2.svg/71px-Question_mark2.svg.png\" height=\"60px\"> <a href=\"http://en.wikipedia.org/wiki/Karel_Ferdinand_Irmler\">Karel Ferdinand Irmler</a>, Karel Ferdinand Irmler (born March 18, 1650, date of death unknown) was a Moravian lawyer and the first professor of secular law at University of Olomouc. Irmler was born in Olomouc to a family of local physician. He studied at the Faculty of Philosophy of University of Olomouc and Law at the University of Prague, where he defended his dissertation in 1674 and 1675. Since 1678 he was privately teaching law in Vienna. He became the first professor of law at University of Olomouc, giving the first lecture at 8 in the morning on January 3, 1679 to six students. </li>\n",
            "<li><b>1690</b> -- <img src=\"http://commons.wikimedia.org/wiki/Special:FilePath/Letter_Goldbach-Euler-signature.jpg?width=60\" height=\"60px\"> <a href=\"http://en.wikipedia.org/wiki/Christian_Goldbach\">Christian Goldbach</a>, Christian Goldbach (March 18, 1690 – November 20, 1764) was a Prussian mathematician who also studied law. He is remembered today for Goldbach's conjecture. </li>\n",
            "<li><b>1796</b> -- <img src=\"http://commons.wikimedia.org/wiki/Special:FilePath/JakobSteiner.jpg?width=60\" height=\"60px\"> <a href=\"http://en.wikipedia.org/wiki/Jakob_Steiner\">Jakob Steiner</a>, Jakob Steiner (18 March 1796 – 1 April 1863) was a Swiss mathematician who worked primarily in geometry. </li>\n",
            "<li><b>1798</b> -- <img src=\"http://commons.wikimedia.org/wiki/Special:FilePath/Gustav_Rose.jpg?width=60\" height=\"60px\"> <a href=\"http://en.wikipedia.org/wiki/Gustav_Rose\">Gustav Rose</a>, Gustav Rose (March 18, 1798 – July 15, 1873) was a German mineralogist who was a native of Berlin. He was a brother of mineralogist Heinrich Rose (1795–1864), the son of pharmacologist Valentin Rose (1762–1807), and the father of noted surgeon Edmund Rose (1836–1914) and the classicist Valentin Rose (1829–1916). </li>\n",
            "<li><b>1800</b> -- <img src=\"http://commons.wikimedia.org/wiki/Special:FilePath/Claude_Gay_(cropped).jpg?width=60\" height=\"60px\"> <a href=\"http://en.wikipedia.org/wiki/Claude_Gay\">Claude Gay</a>, Claude Gay, often named Claudio Gay in Spanish texts, (March 18, 1800 – November 29, 1873), was a French botanist, naturalist and illustrator. This explorer carried out some of the first investigations about Chilean flora, fauna, geology and geography. The Cordillera Claudio Gay in the Atacama Region of Chile is named after him. </li>\n",
            "<li><b>1839</b> -- <img src=\"https://upload.wikimedia.org/wikipedia/commons/thumb/b/b0/Question_mark2.svg/71px-Question_mark2.svg.png\" height=\"60px\"> <a href=\"http://en.wikipedia.org/wiki/Joseph-Émile_Barbier\">Joseph-Émile Barbier</a>, Joseph-Émile Barbier (1839–1889) was a French astronomer and mathematician, known for Barbier's theorem on the perimeter of curves of constant width. Barbier was born on March 18, 1839, in Saint-Hilaire-Cottes, Pas-de-Calais, in the north of France.He studied at the College of Saint-Omer, also in Pas-de-Calais, and then at the Lycée Henri-IV in Paris. He entered the École Normale Supérieure in 1857, and finished his studies there in 1860, the same year in which he published the paper containing his theorem on constant-width curves. Barbier died on January 28, 1889, in Saint-Genest, Loire. </li>\n",
            "<li><b>1850</b> -- <img src=\"http://commons.wikimedia.org/wiki/Special:FilePath/Wilhelm_und_Ernst_Büchner,_Pfungstadt,_ca._1865.JPG?width=60\" height=\"60px\"> <a href=\"http://en.wikipedia.org/wiki/Ernst_Büchner\">Ernst Büchner</a>, Ernst Büchner (18 March 1850 – 25 April 1924) is the German industrial chemist after whom the Büchner flask and Büchner funnel are named. The patent for his two inventions was published in 1888. </li>\n",
            "<li><b>1871</b> -- <img src=\"https://upload.wikimedia.org/wikipedia/commons/thumb/b/b0/Question_mark2.svg/71px-Question_mark2.svg.png\" height=\"60px\"> <a href=\"http://en.wikipedia.org/wiki/Reginald_Aldworth_Daly\">Reginald Aldworth Daly</a>, Reginald Aldworth Daly (March 18, 1871 – September 19, 1957) was a Canadian geologist. </li>\n",
            "<li><b>1891</b> -- <img src=\"https://upload.wikimedia.org/wikipedia/commons/thumb/b/b0/Question_mark2.svg/71px-Question_mark2.svg.png\" height=\"60px\"> <a href=\"http://en.wikipedia.org/wiki/Walter_A._Shewhart\">Walter A. Shewhart</a>, Walter Andrew Shewhart (pronounced like \"shoe-heart\",March 18, 1891 – March 11, 1967) was an American physicist, engineer and statistician, sometimes known as the father of statistical quality control and also related to the Shewhart cycle. W. Edwards Deming said of him: As a statistician, he was, like so many of the rest of us, self-taught, on a good background of physics and mathematics. </li>\n",
            "<li><b>1897</b> -- <img src=\"https://upload.wikimedia.org/wikipedia/commons/thumb/b/b0/Question_mark2.svg/71px-Question_mark2.svg.png\" height=\"60px\"> <a href=\"http://en.wikipedia.org/wiki/Paul_Russell_Cutright\">Paul Russell Cutright</a>, Paul Russell Cutright (March 18, 1897 – March 11, 1988) was an American historian, biologist, and professor, who was especially known for his work on the Lewis and Clark Expedition history and scientific achievements. </li>\n",
            "<li><b>1904</b> -- <img src=\"http://commons.wikimedia.org/wiki/Special:FilePath/Kojiro_Yosikawsa.jpg?width=60\" height=\"60px\"> <a href=\"http://en.wikipedia.org/wiki/Kōjirō_Yoshikawa\">Kōjirō Yoshikawa</a>, Kōjirō Yoshikawa (Yoshikawa Kōjirō 吉川幸次郎; 18 March 1904 – 8 April 1980) was a Japanese sinologist noted for his studies of Chinese history and Classical Chinese literature, especially the Book of Documents (Shujing) and Analects of Confucius. Yoshikawa was awarded many honors for his scholarship, including membership in the Japan Art Academy and he was named a Person of Cultural Merit. In 1969 he was awarded the Prix Stanislas Julien for the entire body of his work. </li>\n",
            "<li><b>1907</b> -- <img src=\"http://commons.wikimedia.org/wiki/Special:FilePath/John_Zachary_Young_1978c.jpg?width=60\" height=\"60px\"> <a href=\"http://en.wikipedia.org/wiki/John_Zachary_Young\">John Zachary Young</a>, John Zachary Young FRS (18 March 1907 – 4 July 1997), generally known as \"JZ\" or \"JZY\", was an English zoologist and neurophysiologist, described as \"one of the most influential biologists of the 20th century.\" </li>\n",
            "<li><b>1914</b> -- <img src=\"http://commons.wikimedia.org/wiki/Special:FilePath/Shneior_Lifson.jpg?width=60\" height=\"60px\"> <a href=\"http://en.wikipedia.org/wiki/Shneior_Lifson\">Shneior Lifson</a>, Shneior Lifson (Hebrew: שניאור ליפסון‎‎; born 18 March 1914 in Tel Aviv – died 22 January 2001 in Rehovot), wasan Israeli chemical physicist, scientific director of the Weizmann Institute of Science, a founder of the Open University of Israel, laureate of the 1969 Israel Prize in the life sciences. Lifson is best known for his consistent force field method, one of the major theories behind 3-D computer modeling of large molecules. </li>\n",
            "<li><b>1918</b> -- <img src=\"https://upload.wikimedia.org/wikipedia/commons/thumb/b/b0/Question_mark2.svg/71px-Question_mark2.svg.png\" height=\"60px\"> <a href=\"http://en.wikipedia.org/wiki/David_Zeidler\">David Zeidler</a>, Sir David Ronald Zeidler AC, CBE (18 March 1918 – 12 March 1998) was an Australian chemist and industrialist. Zeidler was born in Melbourne, he attended the Scotch College, Melbourne and continued his education at the University of Melbourne graduating with a Master of Science. When he completed his studies Zeidler was employed by the Council for Scientific and Industrial Research (CSIR) from 1942 to 1952. He worked in the Division of Industrial Chemistry and became leader of the chemical engineering section. During this period he also traveled to the United States where undertook postgraduate research at the Massachusetts Institute of Technology. </li>\n",
            "<li><b>1918</b> -- <img src=\"http://commons.wikimedia.org/wiki/Special:FilePath/Rooftop_Photo.jpg?width=60\" height=\"60px\"> <a href=\"http://en.wikipedia.org/wiki/Leonard_L._Northrup_Jr.\">Leonard L. Northrup Jr.</a>, Leonard \"Lynn\" L. Northrup Jr. (March 18, 1918 – March 24, 2016) was an American engineer who was a pioneer of the commercialization of solar thermal energy. Influenced by the work of Professor John Yellott, Dr. Maria Telkes, and Harry Tabor, Northrup's company designed, patented, developed and manufactured some of the first commercial solar water heaters, solar concentrators, solar-powered air conditioning systems, solar power towers and photovoltaic thermal hybrid systems in the United States. The company he founded became part of ARCO Solar, which in turn became BP Solar, which became the largest solar energy company in the world. Northrup was a prolific inventor with 14 US patents. </li>\n",
            "<li><b>1922</b> -- <img src=\"http://commons.wikimedia.org/wiki/Special:FilePath/Karl_Kordesch_2003.JPG?width=60\" height=\"60px\"> <a href=\"http://en.wikipedia.org/wiki/Karl_Kordesch\">Karl Kordesch</a>, Karl Kordesch (18 March 1922 – 12 January 2011) was an Austrian chemist and inventor, most notable for jointly inventing the alkaline battery. </li>\n",
            "<li><b>1924</b> -- <img src=\"https://upload.wikimedia.org/wikipedia/commons/thumb/b/b0/Question_mark2.svg/71px-Question_mark2.svg.png\" height=\"60px\"> <a href=\"http://en.wikipedia.org/wiki/Maura_Scannell\">Maura Scannell</a>, Mary J. P. \"Maura\" Scannell (1924 - 2011) was a leading Irish botanist. </li>\n",
            "<li><b>1928</b> -- <img src=\"http://commons.wikimedia.org/wiki/Special:FilePath/Carleson_cropped.jpg?width=60\" height=\"60px\"> <a href=\"http://en.wikipedia.org/wiki/Lennart_Carleson\">Lennart Carleson</a>, Lennart Axel Edvard Carleson (born 18 March 1928) is a Swedish mathematician, known as a leader in the field of harmonic analysis. One of his most famous achievements is his proof of Lusin's conjecture. </li>\n",
            "<li><b>1935</b> -- <img src=\"http://commons.wikimedia.org/wiki/Special:FilePath/Ole-Barndorff-Nielsen.jpg?width=60\" height=\"60px\"> <a href=\"http://en.wikipedia.org/wiki/Ole_Barndorff-Nielsen\">Ole Barndorff-Nielsen</a>, Ole Eiler Barndorff-Nielsen (born 18 March 1935 in Copenhagen) is a Danish statistician who has contributed to many areas of statistical science. He became interested in statistics when, as a student of actuarial mathematics, he worked part-time at the Department of Biostatistics of the Danish State Serum Institute. He graduated from the University of Aarhus (Denmark) in 1960, where he has spent most of his academic life, and where he became professor of statistics in 1973. However in 1962-1963 and 1963-1964 he stayed at the University of Minnesota and Stanford University, respectively, and from August 1974 to February 1975 he was an Overseas Fellow at Churchill College, Cambridge, and visitor at Statistical Laboratory, Cambridge University. </li>\n",
            "<li><b>1936</b> -- <img src=\"https://upload.wikimedia.org/wikipedia/commons/thumb/b/b0/Question_mark2.svg/71px-Question_mark2.svg.png\" height=\"60px\"> <a href=\"http://en.wikipedia.org/wiki/Franz_Hillenkamp\">Franz Hillenkamp</a>, Franz Hillenkamp (March 18, 1936 – August 22, 2014) was a German scientist known for his development of the laser microprobe mass analyzer and, with Michael Karas, matrix-assisted laser desorption/ionization (MALDI). </li>\n",
            "<li><b>1940</b> -- <img src=\"http://en.wikipedia.org/wiki/Special:FilePath/EidHourany.JPG?width=60\" height=\"60px\"> <a href=\"http://en.wikipedia.org/wiki/Eid_Hourany\">Eid Hourany</a>, Dr. Eid Hourany (March 18, 1940 – November 17, 2008) was a French and Lebanese nuclear physicist. He studied in the Science Faculty in the Lebanese University (Arabic: كلية العلوم، الجامعة اللبنانية‎‎) at Hadath Beirut. He achieved his State PhD in France at the Institut of Nuclear Physics (French: Institut de Physique Nucléaire d'Orsay) at Orsay where he was coached by Dr Toshiko Yuasa. From 1971 until 1982, he was Professor in Physics and finally Head of the Physics department at Hadath University (Beyrouth). He joined French National Research Centre (CNRS) in 1982. From 1982 until 2006 he pursued several research activities and contributed to more than 80 scientific publications. He officially retired from CNRS in 2006 with the grade of \"Directeur de Recherche\". He continued his researc </li>\n",
            "<li><b>1943</b> -- <img src=\"https://upload.wikimedia.org/wikipedia/commons/thumb/b/b0/Question_mark2.svg/71px-Question_mark2.svg.png\" height=\"60px\"> <a href=\"http://en.wikipedia.org/wiki/L._Gary_Leal\">L. Gary Leal</a>, Leslie Gary Leal (born 18 March 1943) is the Warren & Katharine Schlinger Professor of Chemical Engineering at the University of California, Santa Barbara. He is known for his research work in the dynamics of complex fluids. Leal was born in Bellingham, Washington. </li>\n",
            "<li><b>1945</b> -- <img src=\"https://upload.wikimedia.org/wikipedia/commons/thumb/b/b0/Question_mark2.svg/71px-Question_mark2.svg.png\" height=\"60px\"> <a href=\"http://en.wikipedia.org/wiki/Charles_Brenner_(mathematician)\">Charles Brenner (mathematician)</a>, Charles Hallam Brenner is an American mathematician who is the originator of forensic mathematics.His father Joel Lee Brenner was a professor of mathematics and his mother Frances Hallam Brenner was a city councilor and briefly mayor of Palo Alto, California. His uncle Charles Brenner, MD was a psychiatrist. Brenner received a BS from Stanford University in 1967 and a Ph.D. from UCLA in 1984. His Erdős number is 2. Brenner participated in the implementation of APL\\360 and APL\\1130,and implemented the transpose and rotate primitive functions. </li>\n",
            "<li><b>1949</b> -- <img src=\"http://commons.wikimedia.org/wiki/Special:FilePath/Jan_Velterop.jpg?width=60\" height=\"60px\"> <a href=\"http://en.wikipedia.org/wiki/Jan_Velterop\">Jan Velterop</a>, Johannes (Jan) Josephus Marinus Velterop (born 18 March 1949) is a science publisher. </li>\n",
            "<li><b>1950</b> -- <img src=\"http://commons.wikimedia.org/wiki/Special:FilePath/Linda_Partridge_01.JPG?width=60\" height=\"60px\"> <a href=\"http://en.wikipedia.org/wiki/Linda_Partridge\">Linda Partridge</a>, Dame Linda Partridge DBE FMedSci (born 18 March 1950) is a British geneticist, who studies the biology and genetics of ageing (biogerontology) and age-related diseases, such as Alzheimer's disease and Parkinson's disease. Patridge is currently the Weldon Professor of Biometry at the Department of Genetics, Evolution and Environment of University College London, director of UCL's Institute of Healthy Ageing and founding director of the Max Planck Institute for the Biology of Ageing. </li>\n",
            "<li><b>1952</b> -- <img src=\"http://commons.wikimedia.org/wiki/Special:FilePath/MohdNohDalimin.jpg?width=60\" height=\"60px\"> <a href=\"http://en.wikipedia.org/wiki/Mohd_Noh_Dalimin\">Mohd Noh Dalimin</a>, Professor Datuk Dr. Mohd Noh Dalimin, BSc (Gadjah Mada University), MSc PhD (Lond), DIC (Imperial College), DSDK, PGDK, ASDK, is a Professor of Physics (Energy and Materials), and is also the Vice-Chancellor of Universiti Tun Hussein Onn Malaysia (UTHM), October, 2008. Prior to that, he was the Vice-Chancellor of University Malaysia Sabah (UMS) between 2005 and 2008, and a Deputy Vice-Chancellor between 1998 and 2005, in the same university. Mohd Noh is married to Prof. Datin Dr Maryati Mohamed, an entomologist, and they have seven children. </li>\n",
            "<li><b>1953</b> -- <img src=\"http://commons.wikimedia.org/wiki/Special:FilePath/Professor_Robert_Foley,Wadi_Mathendous,_January_2011.jpg?width=60\" height=\"60px\"> <a href=\"http://en.wikipedia.org/wiki/Robert_Foley_(academic)\">Robert Foley (academic)</a>, Robert Andrew Foley, FBA (born 18 March 1953) is a British anthropologist, archaeologist, and academic, specialising in human evolution. From 1977 to 1985, he was a lecturer in anthropology at the University of Durham. He has been a fellow of King's College, Cambridge since 1987, and Leverhulme Professor of Human Evolution at the University of Cambridge since 2003. </li>\n",
            "<li><b>1968</b> -- <img src=\"http://commons.wikimedia.org/wiki/Special:FilePath/Leon_van_der_Torre.jpg?width=60\" height=\"60px\"> <a href=\"http://en.wikipedia.org/wiki/Leon_van_der_Torre\">Leon van der Torre</a>, Leendert (Leon) van der Torre is a professor of computer science at the University of Luxembourg and head of the Individual and Collective Reasoning (ICR) group, part of the Computer Science and Communication (CSC) Research Unit. Leon van der Torre is a prolific researcher in deontic logic and multi-agent systems, a member of the Ethics Advisory Committee of the University of Luxembourg and founder of the CSC Robotic research laboratory. Since March 2016 he is the head of the Computer Science and Communication (CSC) Research Unit. </li>\n",
            "<li><b>1968</b> -- <img src=\"http://en.wikipedia.org/wiki/Special:FilePath/Flag_of_the_United_Kingdom.svg?width=60\" height=\"60px\"> <a href=\"http://en.wikipedia.org/wiki/Pedro_G._Ferreira\">Pedro G. Ferreira</a>, Pedro Gil Ferreira (born 18 March 1968) is a British/Portuguese astrophysicist and author. In 2016 he is Professor of Astrophysics at the University of Oxford, and a fellow of Oriel College. </li>\n",
            "<li><b>1969</b> -- <img src=\"https://upload.wikimedia.org/wikipedia/commons/thumb/b/b0/Question_mark2.svg/71px-Question_mark2.svg.png\" height=\"60px\"> <a href=\"http://en.wikipedia.org/wiki/Eric_W._Weisstein\">Eric W. Weisstein</a>, (This article is about the encyclopedist. For other uses of Weisstein, see Weisstein (disambiguation).) Eric Wolfgang Weisstein (born March 18, 1969) is an encyclopedist who created and maintains MathWorld and Eric Weisstein's World of Science (ScienceWorld). He is the author of the CRC Concise Encyclopedia of Mathematics. He currently works for Wolfram Research, Inc. </li>\n",
            "</ul>\n",
            "</body></html>\n"
          ],
          "name": "stdout"
        }
      ]
    },
    {
      "cell_type": "markdown",
      "metadata": {
        "id": "0SXWT2eP-Yaf"
      },
      "source": [
        "Now, do exactly the same, but write output into a file on your local computer (to be displayed in your browser)"
      ]
    },
    {
      "cell_type": "code",
      "metadata": {
        "id": "Kvv0vRcn0jHV"
      },
      "source": [
        "from google.colab import files\n",
        "\n",
        "with open('birthday.html', 'w') as f:\n",
        "\t# Create HTML output\n",
        "\tf.write('<html><head><title>Scientific Birthdays of Today</title></head>')\n",
        "\n",
        "\t#extract Weekday %A / Month %B / Day of the Month %d by formatting today's date accordingly\n",
        "\tdate = datetime.today().strftime(\"%A  %B %d\")\n",
        "\tf.write('<body><h1>Scientific Birthdays of {}</h1>'.format(date))\n",
        "\n",
        "\tf.write('<ul>')\n",
        "\n",
        "\tfor result in results[\"results\"][\"bindings\"]:\n",
        "\t\tif (\"scientist\" in result):\n",
        "\t\t\t#Create a Wikipedia Link\n",
        "\t\t\twikiurl = \"http://en.wikipedia.org/wiki/\" + result[\"scientist\"][\"value\"].split('/')[-1]\n",
        "\t\telse:\n",
        "\t\t\twikiurl = 'NONE'  \n",
        "\t\tif (\"name\" in result):\n",
        "\t\t\tname = result[\"name\"][\"value\"]\n",
        "\t\telse:\n",
        "\t\t\tname = 'NONE'  \t\t\n",
        "\t\tif (\"birthdate\" in result):\n",
        "\t\t\tbirthdate = result[\"birthdate\"][\"value\"]\n",
        "\t\telse:\n",
        "\t\t\tbirthdate = 'NONE'        \n",
        "\t\tif (\"description\" in result):\n",
        "\t\t\tdescription = result[\"description\"][\"value\"]\n",
        "\t\telse:\n",
        "\t\t\tdescription = ' '  \n",
        "\t\tif (\"thumbnail\" in result):\n",
        "\t\t\tpic = result[\"thumbnail\"][\"value\"]\n",
        "\t\telse:\n",
        "\t\t\tpic = 'https://upload.wikimedia.org/wikipedia/commons/thumb/b/b0/Question_mark2.svg/71px-Question_mark2.svg.png'        \t\n",
        "\n",
        "\t\t#parse date as datetime\n",
        "\t\tdt = datetime.strptime(birthdate, '%Y-%m-%d')\n",
        "  \n",
        "\t\tf.write('<li><b>{}</b> <ul><li><img src=\"{}\" height=\"60px\"> <a href=\"{}\">{}</a>, {} </li></ul></li>'.format(dt.year, pic.replace(\"300\", \"60\"), wikiurl, name, description))\n",
        "\tf.write('</ul>')\n",
        "\tf.write('</body></html>')\n",
        "files.download('birthday.html')"
      ],
      "execution_count": null,
      "outputs": []
    },
    {
      "cell_type": "markdown",
      "metadata": {
        "id": "b2NmCIJYb4b2"
      },
      "source": [
        "Probably, it looks abit nicer in a table..."
      ]
    },
    {
      "cell_type": "code",
      "metadata": {
        "id": "G1vp6PaVJC6G"
      },
      "source": [
        "from google.colab import files\n",
        "\n",
        "with open('birthday.html', 'w') as f:\n",
        "\t# Create HTML output\n",
        "\tf.write('<html><head><title>Scientific Birthdays of Today</title></head>')\n",
        "\n",
        "\t#extract Weekday %A / Month %B / Day of the Month %d by formatting today's date accordingly\n",
        "\tdate = datetime.today().strftime(\"%A  %B %d\")\n",
        "\t# f.write('<body><h1>Scientific Birthdays of {}</h1>'.format(date))\n",
        "\n",
        "\tf.write('<table style=\"width:75%\">')\n",
        "\n",
        "\tfor result in results[\"results\"][\"bindings\"]:\n",
        "\t\tif (\"scientist\" in result):\n",
        "\t\t\t#Create a Wikipedia Link\n",
        "\t\t\twikiurl = \"http://en.wikipedia.org/wiki/\" + result[\"scientist\"][\"value\"].split('/')[-1]\n",
        "\t\telse:\n",
        "\t\t\twikiurl = 'NONE'  \n",
        "\t\tif (\"name\" in result):\n",
        "\t\t\tname = result[\"name\"][\"value\"]\n",
        "\t\telse:\n",
        "\t\t\tname = 'NONE'  \t\t\n",
        "\t\tif (\"birthdate\" in result):\n",
        "\t\t\tbirthdate = result[\"birthdate\"][\"value\"]\n",
        "\t\telse:\n",
        "\t\t\tbirthdate = 'NONE'        \n",
        "\t\tif (\"description\" in result):\n",
        "\t\t\tdescription = result[\"description\"][\"value\"]\n",
        "\t\telse:\n",
        "\t\t\tdescription = ' '  \n",
        "\t\tif (\"thumbnail\" in result):\n",
        "\t\t\tpic = result[\"thumbnail\"][\"value\"]\n",
        "\t\telse:\n",
        "\t\t\tpic = 'https://upload.wikimedia.org/wikipedia/commons/thumb/b/b0/Question_mark2.svg/71px-Question_mark2.svg.png'   \n",
        "\n",
        "\t\t#parse date as datetime\n",
        "\t\tdt = datetime.strptime(birthdate, '%Y-%m-%d')\n",
        "  \n",
        "\t\tf.write('<tr><td><b>{}</b></td> <td style=\"text-center: justify;\"><img src=\"{}\" height=\"60px\"></td><td style=\"text-align: justify;\"><a href=\"{}\">{}</a>, {} </td></tr>'.format(dt.year, pic.replace(\"300\", \"60\"), wikiurl, name, description))\n",
        "\tf.write('</table>')\n",
        "\tf.write('</body></html>')\n",
        "files.download('birthday.html')"
      ],
      "execution_count": null,
      "outputs": []
    }
  ]
}